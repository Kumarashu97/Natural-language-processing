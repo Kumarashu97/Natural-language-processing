{
  "nbformat": 4,
  "nbformat_minor": 0,
  "metadata": {
    "colab": {
      "provenance": [],
      "authorship_tag": "ABX9TyOlmD5tRr4RX50y395t6RBc",
      "include_colab_link": true
    },
    "kernelspec": {
      "name": "python3",
      "display_name": "Python 3"
    },
    "language_info": {
      "name": "python"
    }
  },
  "cells": [
    {
      "cell_type": "markdown",
      "metadata": {
        "id": "view-in-github",
        "colab_type": "text"
      },
      "source": [
        "<a href=\"https://colab.research.google.com/github/Kumarashu97/Natural-language-processing/blob/main/Parts_of_speech_tagging.ipynb\" target=\"_parent\"><img src=\"https://colab.research.google.com/assets/colab-badge.svg\" alt=\"Open In Colab\"/></a>"
      ]
    },
    {
      "cell_type": "code",
      "source": [
        "paragraph = ''' Atoms of radioactive elements can split. According to Albert Einstein, mass and energy are interchangeable under certain circumstances. When atoms split, the process is called nuclear fission. In this case, a small amount of mass is converted into energy. Thus the energy released cannot do much damage '''"
      ],
      "metadata": {
        "id": "dv-KzQhf2ghi"
      },
      "execution_count": 1,
      "outputs": []
    },
    {
      "cell_type": "code",
      "source": [
        "import nltk\n",
        "sentences = nltk.sent_tokenize(paragraph)"
      ],
      "metadata": {
        "id": "6000PzW02tAG"
      },
      "execution_count": 4,
      "outputs": []
    },
    {
      "cell_type": "code",
      "source": [
        "import nltk\n",
        "nltk.download('punkt_tab')"
      ],
      "metadata": {
        "colab": {
          "base_uri": "https://localhost:8080/"
        },
        "id": "fzDW0W1X20Si",
        "outputId": "f0ecc7d3-f650-49d5-8eaf-d288494fcbab"
      },
      "execution_count": 3,
      "outputs": [
        {
          "output_type": "stream",
          "name": "stderr",
          "text": [
            "[nltk_data] Downloading package punkt_tab to /root/nltk_data...\n",
            "[nltk_data]   Unzipping tokenizers/punkt_tab.zip.\n"
          ]
        },
        {
          "output_type": "execute_result",
          "data": {
            "text/plain": [
              "True"
            ]
          },
          "metadata": {},
          "execution_count": 3
        }
      ]
    },
    {
      "cell_type": "code",
      "source": [
        "sentences"
      ],
      "metadata": {
        "colab": {
          "base_uri": "https://localhost:8080/"
        },
        "id": "GX5XEBuc27P1",
        "outputId": "cac8bbc4-d13e-4cb3-b2ec-0024de3749c6"
      },
      "execution_count": 5,
      "outputs": [
        {
          "output_type": "execute_result",
          "data": {
            "text/plain": [
              "[' Atoms of radioactive elements can split.',\n",
              " 'According to Albert Einstein, mass and energy are interchangeable under certain circumstances.',\n",
              " 'When atoms split, the process is called nuclear fission.',\n",
              " 'In this case, a small amount of mass is converted into energy.',\n",
              " 'Thus the energy released cannot do much damage']"
            ]
          },
          "metadata": {},
          "execution_count": 5
        }
      ]
    },
    {
      "cell_type": "code",
      "source": [
        "from nltk.corpus import stopwords\n",
        "\n"
      ],
      "metadata": {
        "id": "G8lxD3GM2_Cm"
      },
      "execution_count": 6,
      "outputs": []
    },
    {
      "cell_type": "code",
      "source": [
        "for i in range(len(sentences)):\n",
        "  words = nltk.word_tokenize(sentences[i])\n",
        "  words = [word for word in words if word not in set(stopwords.words('english'))]\n",
        "  pos_tag = nltk.pos_tag(words)\n",
        "  print(pos_tag)"
      ],
      "metadata": {
        "colab": {
          "base_uri": "https://localhost:8080/"
        },
        "id": "6hp82DJo3dfJ",
        "outputId": "231f431d-0ea9-43d6-ddd8-d1b6c2ee26cc"
      },
      "execution_count": 11,
      "outputs": [
        {
          "output_type": "stream",
          "name": "stdout",
          "text": [
            "[('Atoms', 'NNS'), ('radioactive', 'JJ'), ('elements', 'NNS'), ('split', 'NN'), ('.', '.')]\n",
            "[('According', 'VBG'), ('Albert', 'NNP'), ('Einstein', 'NNP'), (',', ','), ('mass', 'NNP'), ('energy', 'NN'), ('interchangeable', 'JJ'), ('certain', 'JJ'), ('circumstances', 'NNS'), ('.', '.')]\n",
            "[('When', 'WRB'), ('atoms', 'NNS'), ('split', 'VBP'), (',', ','), ('process', 'NN'), ('called', 'VBN'), ('nuclear', 'JJ'), ('fission', 'NN'), ('.', '.')]\n",
            "[('In', 'IN'), ('case', 'NN'), (',', ','), ('small', 'JJ'), ('amount', 'NN'), ('mass', 'NN'), ('converted', 'VBD'), ('energy', 'NN'), ('.', '.')]\n",
            "[('Thus', 'RB'), ('energy', 'NN'), ('released', 'VBD'), ('much', 'JJ'), ('damage', 'NN')]\n"
          ]
        }
      ]
    },
    {
      "cell_type": "code",
      "source": [
        "import nltk\n",
        "nltk.download('stopwords')"
      ],
      "metadata": {
        "colab": {
          "base_uri": "https://localhost:8080/"
        },
        "id": "xpEp-aoa38aL",
        "outputId": "350519f3-03f5-47ba-96e4-b8a38172343b"
      },
      "execution_count": 8,
      "outputs": [
        {
          "output_type": "stream",
          "name": "stderr",
          "text": [
            "[nltk_data] Downloading package stopwords to /root/nltk_data...\n",
            "[nltk_data]   Unzipping corpora/stopwords.zip.\n"
          ]
        },
        {
          "output_type": "execute_result",
          "data": {
            "text/plain": [
              "True"
            ]
          },
          "metadata": {},
          "execution_count": 8
        }
      ]
    },
    {
      "cell_type": "code",
      "source": [
        "\n",
        "  import nltk\n",
        "  nltk.download('averaged_perceptron_tagger_eng')"
      ],
      "metadata": {
        "colab": {
          "base_uri": "https://localhost:8080/"
        },
        "id": "AW4_H7S44Amz",
        "outputId": "639fa5c8-f7d6-4618-d6ca-3591c96b0b8a"
      },
      "execution_count": 10,
      "outputs": [
        {
          "output_type": "stream",
          "name": "stderr",
          "text": [
            "[nltk_data] Downloading package averaged_perceptron_tagger_eng to\n",
            "[nltk_data]     /root/nltk_data...\n",
            "[nltk_data]   Unzipping taggers/averaged_perceptron_tagger_eng.zip.\n"
          ]
        },
        {
          "output_type": "execute_result",
          "data": {
            "text/plain": [
              "True"
            ]
          },
          "metadata": {},
          "execution_count": 10
        }
      ]
    },
    {
      "cell_type": "code",
      "source": [
        "print(nltk.pos_tag(\"Taj mahal is a beautiful monument\".split()))"
      ],
      "metadata": {
        "colab": {
          "base_uri": "https://localhost:8080/"
        },
        "id": "Zzy0fYZ54zGH",
        "outputId": "cc686d25-4498-43a3-9c21-c137f881b956"
      },
      "execution_count": 13,
      "outputs": [
        {
          "output_type": "stream",
          "name": "stdout",
          "text": [
            "[('Taj', 'NNP'), ('mahal', 'NN'), ('is', 'VBZ'), ('a', 'DT'), ('beautiful', 'JJ'), ('monument', 'NN')]\n"
          ]
        }
      ]
    },
    {
      "cell_type": "code",
      "source": [],
      "metadata": {
        "id": "1A6JrPTh5JwE"
      },
      "execution_count": null,
      "outputs": []
    }
  ]
}