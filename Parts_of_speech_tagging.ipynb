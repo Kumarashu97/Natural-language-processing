{
  "nbformat": 4,
  "nbformat_minor": 0,
  "metadata": {
    "colab": {
      "provenance": [],
      "authorship_tag": "ABX9TyOZn00JB+xBgxafVzsqar+V",
      "include_colab_link": true
    },
    "kernelspec": {
      "name": "python3",
      "display_name": "Python 3"
    },
    "language_info": {
      "name": "python"
    }
  },
  "cells": [
    {
      "cell_type": "markdown",
      "metadata": {
        "id": "view-in-github",
        "colab_type": "text"
      },
      "source": [
        "<a href=\"https://colab.research.google.com/github/Kumarashu97/Natural-language-processing/blob/main/Parts_of_speech_tagging.ipynb\" target=\"_parent\"><img src=\"https://colab.research.google.com/assets/colab-badge.svg\" alt=\"Open In Colab\"/></a>"
      ]
    },
    {
      "cell_type": "code",
      "execution_count": 1,
      "metadata": {
        "id": "2OfeC_tZuW1I"
      },
      "outputs": [],
      "source": [
        "paragraph = \"\"\"\n",
        "I love my family because they are the jewels of my life. They work hard so that we can get anything we desire makes me love and respect my parents considerably more. We play games every night and discuss various topics to spend quality time together. I give deep respect and pay the highest regard to my family not just because they are my family, but for their unmatched and incredible sacrifices for me.\"\"\""
      ]
    },
    {
      "cell_type": "code",
      "source": [
        "paragraph"
      ],
      "metadata": {
        "colab": {
          "base_uri": "https://localhost:8080/",
          "height": 105
        },
        "id": "aYRqB3Ofz7MK",
        "outputId": "35c32130-d3b9-499c-b3d6-d1d1d39661d2"
      },
      "execution_count": 2,
      "outputs": [
        {
          "output_type": "execute_result",
          "data": {
            "text/plain": [
              "'\\nI love my family because they are the jewels of my life. They work hard so that we can get anything we desire makes me love and respect my parents considerably more. We play games every night and discuss various topics to spend quality time together. I give deep respect and pay the highest regard to my family not just because they are my family, but for their unmatched and incredible sacrifices for me.'"
            ],
            "application/vnd.google.colaboratory.intrinsic+json": {
              "type": "string"
            }
          },
          "metadata": {},
          "execution_count": 2
        }
      ]
    },
    {
      "cell_type": "code",
      "source": [
        "import nltk # Import the nltk library\n",
        "from nltk.stem import PorterStemmer\n",
        "from nltk.corpus import stopwords\n",
        "\n",
        "stemmer = PorterStemmer()\n",
        "sentences = nltk.sent_tokenize(paragraph) # Now you can call nltk.sent_tokenize"
      ],
      "metadata": {
        "id": "t5RIgXMx1One"
      },
      "execution_count": 6,
      "outputs": []
    },
    {
      "cell_type": "code",
      "source": [
        "import nltk\n",
        "nltk.download('punkt')"
      ],
      "metadata": {
        "colab": {
          "base_uri": "https://localhost:8080/"
        },
        "id": "9i0ruyiv1iaI",
        "outputId": "81bbc166-f47a-4cc8-c79c-261df9f1f0d9"
      },
      "execution_count": 5,
      "outputs": [
        {
          "output_type": "stream",
          "name": "stderr",
          "text": [
            "[nltk_data] Downloading package punkt to /root/nltk_data...\n",
            "[nltk_data]   Unzipping tokenizers/punkt.zip.\n"
          ]
        },
        {
          "output_type": "execute_result",
          "data": {
            "text/plain": [
              "True"
            ]
          },
          "metadata": {},
          "execution_count": 5
        }
      ]
    },
    {
      "cell_type": "code",
      "source": [
        "sentences"
      ],
      "metadata": {
        "colab": {
          "base_uri": "https://localhost:8080/"
        },
        "id": "xm5rdfeP1o7S",
        "outputId": "d1aa5e41-8a61-4b11-f743-aadbc36d2fb3"
      },
      "execution_count": 7,
      "outputs": [
        {
          "output_type": "execute_result",
          "data": {
            "text/plain": [
              "['\\nI love my family because they are the jewels of my life.',\n",
              " 'They work hard so that we can get anything we desire makes me love and respect my parents considerably more.',\n",
              " 'We play games every night and discuss various topics to spend quality time together.',\n",
              " 'I give deep respect and pay the highest regard to my family not just because they are my family, but for their unmatched and incredible sacrifices for me.']"
            ]
          },
          "metadata": {},
          "execution_count": 7
        }
      ]
    },
    {
      "cell_type": "code",
      "source": [
        "for i in range(len(sentences)):\n",
        "    words = nltk.word_tokenize(sentences[i])\n",
        "    words = [word for word in words if word not in set(stopwords.words('english'))]\n",
        "    pos_tag = nltk.pos_tag(words)\n",
        "    print(pos_tag)"
      ],
      "metadata": {
        "colab": {
          "base_uri": "https://localhost:8080/"
        },
        "id": "-sB_aSa61ttz",
        "outputId": "c45aa5bc-df8b-4927-f499-ab5fd3804a11"
      },
      "execution_count": 16,
      "outputs": [
        {
          "output_type": "stream",
          "name": "stdout",
          "text": [
            "[('love', 'VB'), ('famili', 'NN'), ('jewel', 'NN'), ('life', 'NN'), ('.', '.')]\n",
            "[('work', 'NN'), ('hard', 'JJ'), ('get', 'NN'), ('anyth', 'JJ'), ('desir', 'NNS'), ('make', 'VBP'), ('love', 'NN'), ('respect', 'NN'), ('parent', 'NN'), ('consid', 'NN'), ('.', '.')]\n",
            "[('play', 'NN'), ('game', 'NN'), ('everi', 'RB'), ('night', 'NN'), ('discuss', 'NN'), ('variou', 'NN'), ('topic', 'NN'), ('spend', 'VBP'), ('qualiti', 'JJ'), ('time', 'NN'), ('togeth', 'NN'), ('.', '.')]\n",
            "[('give', 'JJ'), ('deep', 'JJ'), ('respect', 'NN'), ('pay', 'NN'), ('highest', 'JJS'), ('regard', 'NN'), ('famili', 'NN'), ('famili', 'NN'), (',', ','), ('unmatch', 'JJ'), ('incr', 'NN'), ('sacrif', 'NN'), ('.', '.')]\n"
          ]
        }
      ]
    },
    {
      "cell_type": "code",
      "source": [
        "import nltk\n",
        "nltk.download('stopwords')\n",
        "\n",
        "import nltk\n",
        "nltk.download('averaged_perceptron_tagger')"
      ],
      "metadata": {
        "colab": {
          "base_uri": "https://localhost:8080/"
        },
        "id": "wfy4N7YO1y_X",
        "outputId": "06136cb5-d86e-41e6-a903-c11a7d052304"
      },
      "execution_count": 13,
      "outputs": [
        {
          "output_type": "stream",
          "name": "stderr",
          "text": [
            "[nltk_data] Downloading package stopwords to /root/nltk_data...\n",
            "[nltk_data]   Package stopwords is already up-to-date!\n",
            "[nltk_data] Downloading package averaged_perceptron_tagger to\n",
            "[nltk_data]     /root/nltk_data...\n",
            "[nltk_data]   Unzipping taggers/averaged_perceptron_tagger.zip.\n"
          ]
        },
        {
          "output_type": "execute_result",
          "data": {
            "text/plain": [
              "True"
            ]
          },
          "metadata": {},
          "execution_count": 13
        }
      ]
    },
    {
      "cell_type": "code",
      "source": [
        "sentences"
      ],
      "metadata": {
        "colab": {
          "base_uri": "https://localhost:8080/"
        },
        "id": "EV9I25Y612S3",
        "outputId": "86297c97-711b-4eb8-9f4a-4621f9153d86"
      },
      "execution_count": 15,
      "outputs": [
        {
          "output_type": "execute_result",
          "data": {
            "text/plain": [
              "['love famili jewel life .',\n",
              " 'work hard get anyth desir make love respect parent consid .',\n",
              " 'play game everi night discuss variou topic spend qualiti time togeth .',\n",
              " 'give deep respect pay highest regard famili famili , unmatch incr sacrif .']"
            ]
          },
          "metadata": {},
          "execution_count": 15
        }
      ]
    },
    {
      "cell_type": "code",
      "source": [
        "for i in \"Taj mahal is a great Monumnt\".split():\n",
        "  print(nltk.pos_tag([i]))"
      ],
      "metadata": {
        "colab": {
          "base_uri": "https://localhost:8080/"
        },
        "id": "ywr4bQAi16VO",
        "outputId": "bd58f355-3831-468b-97ca-25510da14865"
      },
      "execution_count": 17,
      "outputs": [
        {
          "output_type": "stream",
          "name": "stdout",
          "text": [
            "[('Taj', 'NN')]\n",
            "[('mahal', 'NN')]\n",
            "[('is', 'VBZ')]\n",
            "[('a', 'DT')]\n",
            "[('great', 'JJ')]\n",
            "[('Monumnt', 'NN')]\n"
          ]
        }
      ]
    },
    {
      "cell_type": "code",
      "source": [],
      "metadata": {
        "id": "4Diuo5KJ3fMi"
      },
      "execution_count": null,
      "outputs": []
    }
  ]
}